{
 "cells": [
  {
   "cell_type": "code",
   "execution_count": 1,
   "id": "b85e9771",
   "metadata": {},
   "outputs": [
    {
     "name": "stdout",
     "output_type": "stream",
     "text": [
      "Defaulting to user installation because normal site-packages is not writeable\n",
      "Requirement already satisfied: rise in /home/mnjkhtri/.local/lib/python3.10/site-packages (5.7.1)\n",
      "Requirement already satisfied: notebook>=6.0 in /usr/lib/python3/dist-packages (from rise) (6.4.8)\n"
     ]
    }
   ],
   "source": [
    "!pip install rise"
   ]
  },
  {
   "cell_type": "markdown",
   "id": "8b44f65b",
   "metadata": {},
   "source": [
    "# 1. Install rise which provides a new view to the cells\n",
    "# 2. Go to View -> Cell Toolbar -> Presentation\n",
    "# 3. Each cell will have options: slidecomes in new page and fragment continues in the same slide (try yourself)\n",
    "# 4. There is a Enter/Exit slidshow button somewhere in the toolbar"
   ]
  },
  {
   "cell_type": "markdown",
   "id": "193b101b",
   "metadata": {},
   "source": [
    "### Note: These are the base notebooks so can make changes to notebooks notebooks but themes should not change\n",
    "### You are suggested to remove texts and add more codes"
   ]
  },
  {
   "cell_type": "code",
   "execution_count": null,
   "id": "eefd8979",
   "metadata": {},
   "outputs": [],
   "source": []
  }
 ],
 "metadata": {
  "kernelspec": {
   "display_name": "Python 3 (ipykernel)",
   "language": "python",
   "name": "python3"
  },
  "language_info": {
   "codemirror_mode": {
    "name": "ipython",
    "version": 3
   },
   "file_extension": ".py",
   "mimetype": "text/x-python",
   "name": "python",
   "nbconvert_exporter": "python",
   "pygments_lexer": "ipython3",
   "version": "3.10.6"
  },
  "varInspector": {
   "cols": {
    "lenName": 16,
    "lenType": 16,
    "lenVar": 40
   },
   "kernels_config": {
    "python": {
     "delete_cmd_postfix": "",
     "delete_cmd_prefix": "del ",
     "library": "var_list.py",
     "varRefreshCmd": "print(var_dic_list())"
    },
    "r": {
     "delete_cmd_postfix": ") ",
     "delete_cmd_prefix": "rm(",
     "library": "var_list.r",
     "varRefreshCmd": "cat(var_dic_list()) "
    }
   },
   "types_to_exclude": [
    "module",
    "function",
    "builtin_function_or_method",
    "instance",
    "_Feature"
   ],
   "window_display": false
  }
 },
 "nbformat": 4,
 "nbformat_minor": 5
}
