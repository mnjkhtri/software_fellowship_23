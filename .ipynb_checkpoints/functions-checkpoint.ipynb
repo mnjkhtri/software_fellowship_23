{
 "cells": [
  {
   "cell_type": "markdown",
   "metadata": {
    "slideshow": {
     "slide_type": "slide"
    }
   },
   "source": [
    "\n",
    "\n",
    "<br>\n",
    "\n",
    "# 4. Functions\n",
    "## 4.1 Introduction\n",
    "\n",
    "What are functions? Well, in effect, functions are little self-contained programs that perform a specific task, which you can incorporate into your own, larger programs. After you have created a function, you can use it at any time, in any place. This saves you the time and effort of having to retell the computer what to do every time it does a common task, for example getting the user to type something in.\n",
    "\n",
    "## 4.2 Using a Function\n",
    "Python has lots of pre-made functions, that you can use right now, simply by 'calling' them. 'Calling' a function involves you giving a function input, and it will return a value (like a variable would) as output. Don't understand? Here is the general form that calling a function takes:<br>\n",
    "`function_name(parameters)`\n",
    "\n",
    "See? Easy.\n",
    "\n",
    "- `Function_name` identifies which function it is you want to use (You'd figure...). For example, the function `raw_input`, which will be the first function that we will use.\n",
    "- `Parameters` are the values you pass to the function to tell it what is should do, and how to do it... for example, if a function multiplied any given number by five, the stuff in parameters tells the function which number it should multiply by five. Put the number 70 into parameters, and the function will do 70 x 5."
   ]
  },
  {
   "cell_type": "markdown",
   "metadata": {
    "slideshow": {
     "slide_type": "slide"
    }
   },
   "source": [
    "## 4.3 Parameters and Returned Values - Communicating with Functions\n",
    " Let's call this program that multiplied any number by five, `multiply()`. You put the number you want multiplied in the brackets. So if you typed this:\n",
    "\n",
    "`a = multiply(70)`\n",
    "\n",
    "The computer would actually see this:\n",
    "\n",
    "`a = 350`\n",
    "\n",
    "Note: don't bother typing in this code - `multiply()` isn't a real function, unless you create it.\n",
    "\n",
    "The function ran itself, then returned a number to the main program, based on what parameters it was given.\n",
    "\n",
    "Now let's try this with a real function, and see what it does. The function is called `input`, and asks the user to type in something. It then turns it into a string of text. Try the code below:"
   ]
  },
  {
   "cell_type": "code",
   "execution_count": null,
   "metadata": {
    "slideshow": {
     "slide_type": "slide"
    }
   },
   "outputs": [],
   "source": [
    "def multiply(x,y):\n",
    "    return x*y\n",
    "multiply(5,3)"
   ]
  },
  {
   "cell_type": "code",
   "execution_count": null,
   "metadata": {
    "slideshow": {
     "slide_type": "slide"
    }
   },
   "outputs": [],
   "source": [
    "print(\"You are doing good work, Nadika!\")\n",
    "print(\"Thank you very much for your efforts on this fellowship.\")\n",
    "\n",
    "print(\"\\nYou are doing good work, Nabin!\")\n",
    "print(\"Thank you very much for your efforts on this fellowship.\")\n",
    "\n",
    "print(\"\\nYou are doing good work, Mahima!\")\n",
    "print(\"Thank you very much for your efforts on this fellowship.\")"
   ]
  },
  {
   "cell_type": "code",
   "execution_count": null,
   "metadata": {
    "slideshow": {
     "slide_type": "slide"
    }
   },
   "outputs": [],
   "source": [
    "def thank_you(name):\n",
    "    # This function prints a two-line personalized thank you message.\n",
    "    print(\"\\nYou are doing good work, %s!\" % name)\n",
    "    print(\"Thank you very much for your efforts on this project.\")\n",
    "    \n",
    "thank_you('Nadika')\n",
    "thank_you('Nabin')\n",
    "thank_you('Mahima')"
   ]
  },
  {
   "cell_type": "code",
   "execution_count": null,
   "metadata": {},
   "outputs": [],
   "source": [
    "thank_you('Nadika')\n",
    "thank_you('Nabin')\n",
    "thank_you('Mahima')\n",
    "def thank_you(name):\n",
    "    # This function prints a two-line personalized thank you message.\n",
    "    print(\"\\nYou are doing good work, %s!\" % name)\n",
    "    print(\"Thank you very much for your efforts on this project.\")"
   ]
  },
  {
   "cell_type": "code",
   "execution_count": null,
   "metadata": {},
   "outputs": [],
   "source": [
    "Local and global funcitions!\n",
    "Nicknames?\n",
    "Local variables are defined within a function and can only be accessed within that specific function.\n"
   ]
  },
  {
   "cell_type": "code",
   "execution_count": null,
   "metadata": {},
   "outputs": [],
   "source": [
    "def calculate_sum(a, b):\n",
    "    # Local variable 'result' is defined within the function\n",
    "    result = a + b\n",
    "    print(\"Inside the function, the sum is:\", result)\n",
    "\n",
    "# Calling the function\n",
    "calculate_sum(5, 3)\n",
    "# Trying to access the local variable outside the function will result in an error\n",
    "print(\"Outside the function, the sum is:\", result)  # This will throw an error\n"
   ]
  },
  {
   "cell_type": "code",
   "execution_count": null,
   "metadata": {},
   "outputs": [],
   "source": [
    "# Global variable 'x' is defined outside any function\n",
    "x = 10\n",
    "\n",
    "def print_number():\n",
    "    # The global variable 'x' is accessible within the function\n",
    "    print(\"The value of x is:\", x)\n",
    "\n",
    "def modify_number():\n",
    "    # Using the 'global' keyword to indicate that 'x' refers to the global variable\n",
    "    global x\n",
    "    x = 20\n",
    "    print(\"Modified the global value of x to:\", x)\n",
    "\n",
    "# Calling the functions\n",
    "print_number()\n",
    "modify_number()\n",
    "print(\"After modification, the value of x is:\", x)\n"
   ]
  },
  {
   "cell_type": "code",
   "execution_count": null,
   "metadata": {
    "slideshow": {
     "slide_type": "slide"
    }
   },
   "outputs": [],
   "source": [
    "# this line makes 'a' equal to whatever you type in\n",
    "a = input(\"Type in something, and it will be repeated on screen: \")\n",
    "# this line prints what 'a' is now worth\n",
    "print(a)"
   ]
  },
  {
   "cell_type": "code",
   "execution_count": 6,
   "metadata": {
    "slideshow": {
     "slide_type": "slide"
    }
   },
   "outputs": [
    {
     "data": {
      "text/plain": [
       "15"
      ]
     },
     "execution_count": 6,
     "metadata": {},
     "output_type": "execute_result"
    }
   ],
   "source": [
    "eval('5*3')"
   ]
  },
  {
   "cell_type": "markdown",
   "metadata": {
    "slideshow": {
     "slide_type": "slide"
    }
   },
   "source": [
    "## 4.4 A Calculator Program\n",
    "\n"
   ]
  },
  {
   "cell_type": "code",
   "execution_count": null,
   "metadata": {},
   "outputs": [],
   "source": [
    "\n",
    "eval('5*3')"
   ]
  },
  {
   "cell_type": "code",
   "execution_count": null,
   "metadata": {},
   "outputs": [],
   "source": [
    "a=input(\"enter the number\")\n",
    "print(a)"
   ]
  },
  {
   "cell_type": "code",
   "execution_count": null,
   "metadata": {
    "slideshow": {
     "slide_type": "slide"
    }
   },
   "outputs": [],
   "source": [
    "#calculator program\n",
    "\n",
    "#this variable tells the loop whether it should loop or not.\n",
    "#1 means loop. Anything else means don't loop.\n",
    "\n",
    "loop = 1\n",
    "\n",
    "#this variable holds the user's choice in the menu:\n",
    "\n",
    "choice = 0\n",
    "\n",
    "while loop == 1:\n",
    "    #print what options you have\n",
    "    print(\"Welcome to calculator.py\")\n",
    "\n",
    "    print(\"your options are:\")\n",
    "    print(\" \")\n",
    "    print(\"1. Addition\")\n",
    "    print(\"2. Subtraction\")\n",
    "    print(\"3. Multiplication\")\n",
    "    print(\"4. Division\")\n",
    "    print(\"5. Quit calculator.py\")\n",
    "    print(\" \")\n",
    "\n",
    "    choice = eval(input(\"Choose your option: \"))\n",
    "    if choice == 1:\n",
    "        add1 = input(\"Enter 1st number\")\n",
    "        add2 = input(\"Enter 2nd number\")\n",
    "        print(eval(add1+add2))\n",
    "    elif choice == 2:\n",
    "        add1 = input(\"Enter 1st number\")\n",
    "        add2 = input(\"Enter 2nd number\")\n",
    "        print(eval(add1-add2))\n",
    "    elif choice == 3:\n",
    "        add1 = input(\"Enter 1st number\")\n",
    "        add2 = input(\"Enter 2nd number\")\n",
    "        print(eval(add1*add2))\n",
    "    elif choice == 4:\n",
    "         add1 = input(\"Enter 1st number\")\n",
    "        add2 = input(\"Enter 2nd number\")\n",
    "        print(eval(add1/add2))\n",
    "    elif choice == 5:\n",
    "        loop = 0\n",
    "        \n",
    "print(\"Thank you for using calculator.py!\")"
   ]
  },
  {
   "cell_type": "markdown",
   "metadata": {
    "slideshow": {
     "slide_type": "slide"
    }
   },
   "source": [
    "## 4.5 Define Your Own Functions\n",
    "Well, it is all well and good that you can use other people's functions, but what if you want to write your own functions, to save time, and maybe use them in other programs? This is where the `def` operator comes in. (An operator is just something that tells Python what to do, e.g. the `+` operator tells Python to add things, the `if` operator tells Python to do something if conditions are met.)\n",
    "\n",
    "This is how the `def` operator works:\n",
    "\n",
    "```\n",
    "def function_name(parameter_1,parameter_2):\n",
    "    {this is the code in the function}\n",
    "    {more code}\n",
    "    {more code}\n",
    "    return {value to return to the main program}\n",
    "{this code isn't in the function}\n",
    "{because it isn't indented}\n",
    "#remember to put a colon \":\" at the end\n",
    "#of the line that starts with 'def'\n",
    "```\n"
   ]
  },
  {
   "cell_type": "code",
   "execution_count": 9,
   "metadata": {
    "slideshow": {
     "slide_type": "slide"
    }
   },
   "outputs": [
    {
     "name": "stdout",
     "output_type": "stream",
     "text": [
      "The word created is: YeSalaCupNamde\n"
     ]
    },
    {
     "data": {
      "text/plain": [
       "'YeSalaCupNamde'"
      ]
     },
     "execution_count": 9,
     "metadata": {},
     "output_type": "execute_result"
    }
   ],
   "source": [
    "def funnyfunction(first_word,second_word,third_word):\n",
    "    print(\"The word created is: \" + first_word + second_word + third_word)\n",
    "    return first_word + second_word + third_word\n",
    "funnyfunction('YeSala','Cup',\"Namde\")"
   ]
  },
  {
   "cell_type": "code",
   "execution_count": null,
   "metadata": {
    "slideshow": {
     "slide_type": "slide"
    }
   },
   "outputs": [
    {
     "name": "stdout",
     "output_type": "stream",
     "text": [
      "Welcome to calculator.py\n",
      "your options are:\n",
      " \n",
      "1. Addition\n",
      "2. Subtraction\n",
      "3. Multiplication\n",
      "4. Division\n",
      "5. Quit calculator.py\n",
      " \n",
      "Choose your option: 1\n",
      "Add this: 12\n",
      "to this: 12\n",
      "12 + 12 = 24\n",
      "Welcome to calculator.py\n",
      "your options are:\n",
      " \n",
      "1. Addition\n",
      "2. Subtraction\n",
      "3. Multiplication\n",
      "4. Division\n",
      "5. Quit calculator.py\n",
      " \n"
     ]
    }
   ],
   "source": [
    "# calculator program\n",
    "\n",
    "# NO CODE IS REALLY RUN HERE, IT IS ONLY TELLING US WHAT WE WILL DO LATER\n",
    "# Here we will define our functions\n",
    "# this prints the main menu, and prompts for a choice\n",
    "def menu():\n",
    "    #print what options you have\n",
    "    print(\"Welcome to calculator.py\")\n",
    "    print(\"your options are:\")\n",
    "    print(\" \")\n",
    "    print(\"1. Addition\")\n",
    "    print(\"2. Subtraction\")\n",
    "    print(\"3. Multiplication\")\n",
    "    print(\"4. Division\")\n",
    "    print(\"5. Quit calculator.py\")\n",
    "    print(\" \")\n",
    "    return eval(input(\"Choose your option: \"))\n",
    "    \n",
    "# this adds two numbers given\n",
    "def add(a,b):\n",
    "    print(a, \"+\", b, \"=\", a + b)\n",
    "    \n",
    "# this subtracts two numbers given\n",
    "def sub(a,b):\n",
    "    print(b, \"-\", a, \"=\", b - a)\n",
    "    \n",
    "# this multiplies two numbers given\n",
    "def mul(a,b):\n",
    "    print(a, \"*\", b, \"=\", a * b)\n",
    "    \n",
    "# this divides two numbers given\n",
    "def div(a,b):\n",
    "    print(a, \"/\", b, \"=\", a / b)\n",
    "    \n",
    "# NOW THE PROGRAM REALLY STARTS, AS CODE IS RUN\n",
    "loop = 1\n",
    "choice = 0\n",
    "while loop == 1:\n",
    "    choice = menu()\n",
    "    if choice == 1:\n",
    "        add(eval(input(\"Add this: \")),eval(input(\"to this: \")))\n",
    "    elif choice == 2:\n",
    "        sub(eval(input(\"Subtract this: \")),eval(input(\"from this: \")))\n",
    "    elif choice == 3:\n",
    "        mul(eval(input(\"Multiply this: \")),eval(input(\"by this: \")))\n",
    "    elif choice == 4:\n",
    "        div(eval(input(\"Divide this: \")),eval(input(\"by this: \")))\n",
    "    elif choice == 5:\n",
    "        loop = 0\n",
    "\n",
    "print(\"Thank you for using calculator.py!\")\n",
    "\n",
    "# NOW THE PROGRAM REALLY FINISHES"
   ]
  },
  {
   "cell_type": "markdown",
   "metadata": {
    "slideshow": {
     "slide_type": "slide"
    }
   },
   "source": [
    "## 4.9 Conclusion\n",
    "WHOA!!!! WHAT A KILLER LESSON!!! Thenkuuuuuuuuuuu Great!"
   ]
  }
 ],
 "metadata": {
  "celltoolbar": "Slideshow",
  "kernelspec": {
   "display_name": "Python 3 (ipykernel)",
   "language": "python",
   "name": "python3"
  },
  "language_info": {
   "codemirror_mode": {
    "name": "ipython",
    "version": 3
   },
   "file_extension": ".py",
   "mimetype": "text/x-python",
   "name": "python",
   "nbconvert_exporter": "python",
   "pygments_lexer": "ipython3",
   "version": "3.11.3"
  },
  "varInspector": {
   "cols": {
    "lenName": 16,
    "lenType": 16,
    "lenVar": 40
   },
   "kernels_config": {
    "python": {
     "delete_cmd_postfix": "",
     "delete_cmd_prefix": "del ",
     "library": "var_list.py",
     "varRefreshCmd": "print(var_dic_list())"
    },
    "r": {
     "delete_cmd_postfix": ") ",
     "delete_cmd_prefix": "rm(",
     "library": "var_list.r",
     "varRefreshCmd": "cat(var_dic_list()) "
    }
   },
   "types_to_exclude": [
    "module",
    "function",
    "builtin_function_or_method",
    "instance",
    "_Feature"
   ],
   "window_display": false
  }
 },
 "nbformat": 4,
 "nbformat_minor": 2
}
