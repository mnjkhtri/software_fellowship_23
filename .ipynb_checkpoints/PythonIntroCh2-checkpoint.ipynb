{
 "cells": [
  {
   "cell_type": "markdown",
   "metadata": {
    "slideshow": {
     "slide_type": "skip"
    }
   },
   "source": [
    "< [Very simple 'programs'](PythonIntroCh1.ipynb) | [Contents](PythonIntro.ipynb) | [Loops, Loops, Loops, Loops...](PythonIntroCh3.ipynb) >"
   ]
  },
  {
   "cell_type": "markdown",
   "metadata": {
    "slideshow": {
     "slide_type": "slide"
    }
   },
   "source": [
    "# 2. Programs in a file, variables and strings\n",
    "## Introduction\n",
    "Well, lets write some actual programs.\n"
   ]
  },
  {
   "cell_type": "code",
   "execution_count": 14,
   "metadata": {
    "slideshow": {
     "slide_type": "slide"
    }
   },
   "outputs": [
    {
     "name": "stdout",
     "output_type": "stream",
     "text": [
      "Mary had a little lamb\n",
      "it's fleece was white as snow;\n",
      "and everywhere that Mary went her lamb was sure to go.\n"
     ]
    }
   ],
   "source": [
    "#A simple program.\n",
    "print(\"Mary had a little lamb\")\n",
    "print(\"it's fleece was white as snow;\")\n",
    "print(\"and everywhere that Mary went\", end = \" \")\n",
    "print(\"her lamb was sure to go.\")"
   ]
  },
  {
   "cell_type": "markdown",
   "metadata": {
    "slideshow": {
     "slide_type": "slide"
    }
   },
   "source": [
    "## Variables\n",
    "Now let's start introducing variables. Variables store a value, that can be looked at or changed at a later time. Let's make a program that uses variables:"
   ]
  },
  {
   "cell_type": "code",
   "execution_count": 15,
   "metadata": {
    "slideshow": {
     "slide_type": "fragment"
    }
   },
   "outputs": [
    {
     "name": "stdout",
     "output_type": "stream",
     "text": [
      "This program is a demo of variables\n",
      "The value of v is now 1\n",
      "v now equals itself plus one, making it worth 2\n",
      "for example, in a sentence. v is now worth 51\n"
     ]
    }
   ],
   "source": [
    "#variables demonstrated\n",
    "print(\"This program is a demo of variables\")\n",
    "v = 1\n",
    "print(\"The value of v is now\", v)\n",
    "v = v + 1\n",
    "print(\"v now equals itself plus one, making it worth\", v)\n",
    "v = 51\n",
    "print(\"for example, in a sentence. v is now worth\", v)"
   ]
  },
  {
   "cell_type": "markdown",
   "metadata": {
    "slideshow": {
     "slide_type": "slide"
    }
   },
   "source": [
    "Note that we can also write `v = v + 1` as `v += 1`. \n",
    "\n",
    "This can be used for all operators (e.g. `-=`, `*=`,`/=`)."
   ]
  },
  {
   "cell_type": "code",
   "execution_count": 16,
   "metadata": {
    "slideshow": {
     "slide_type": "fragment"
    }
   },
   "outputs": [
    {
     "name": "stdout",
     "output_type": "stream",
     "text": [
      "50\n",
      "500\n"
     ]
    }
   ],
   "source": [
    "v -= 1\n",
    "print(v)\n",
    "v *= 10\n",
    "print(v)"
   ]
  },
  {
   "cell_type": "markdown",
   "metadata": {
    "slideshow": {
     "slide_type": "slide"
    }
   },
   "source": [
    "## Strings\n",
    "As you can see, variables store values, for use at a later time. You can change them at any time. You can put in more than numbers, though. Variables can hold things like text. A variable that holds text is called a string. Try this program:"
   ]
  },
  {
   "cell_type": "code",
   "execution_count": 17,
   "metadata": {
    "slideshow": {
     "slide_type": "fragment"
    }
   },
   "outputs": [
    {
     "name": "stdout",
     "output_type": "stream",
     "text": [
      "Good morning\n",
      "Good morning to you too!\n"
     ]
    }
   ],
   "source": [
    "#giving variables text, and adding text.\n",
    "word1 = \"Good\"\n",
    "word2 = \"morning\"\n",
    "word3 = \"to you too!\"\n",
    "print(word1, word2)\n",
    "sentence = word1 + \" \" + word2 + \" \" + word3\n",
    "print(sentence)"
   ]
  },
  {
   "cell_type": "code",
   "execution_count": 18,
   "metadata": {
    "slideshow": {
     "slide_type": "slide"
    }
   },
   "outputs": [
    {
     "data": {
      "text/plain": [
       "10"
      ]
     },
     "execution_count": 18,
     "metadata": {},
     "output_type": "execute_result"
    }
   ],
   "source": [
    "text = \"abcdefghij\"\n",
    "len(text)"
   ]
  },
  {
   "cell_type": "markdown",
   "metadata": {
    "slideshow": {
     "slide_type": "fragment"
    }
   },
   "source": [
    "Yes, it shows us the amount of characters in a string.\n",
    "\n",
    "Now try this:"
   ]
  },
  {
   "cell_type": "code",
   "execution_count": 19,
   "metadata": {
    "slideshow": {
     "slide_type": "slide"
    }
   },
   "outputs": [
    {
     "name": "stdout",
     "output_type": "stream",
     "text": [
      "e\n"
     ]
    }
   ],
   "source": [
    "print(text[4])"
   ]
  },
  {
   "cell_type": "markdown",
   "metadata": {
    "slideshow": {
     "slide_type": "slide"
    }
   },
   "source": [
    "Here we want to print the character at position 4. Note that the first character \"a\" is at position 0! So position 4 gives us back \"e\".\n",
    "\n",
    "Now try:"
   ]
  },
  {
   "cell_type": "code",
   "execution_count": 20,
   "metadata": {
    "slideshow": {
     "slide_type": "fragment"
    }
   },
   "outputs": [
    {
     "name": "stdout",
     "output_type": "stream",
     "text": [
      "abcd\n"
     ]
    }
   ],
   "source": [
    "print(text[:4])"
   ]
  },
  {
   "cell_type": "code",
   "execution_count": 21,
   "metadata": {
    "slideshow": {
     "slide_type": "fragment"
    }
   },
   "outputs": [
    {
     "name": "stdout",
     "output_type": "stream",
     "text": [
      "efghij\n"
     ]
    }
   ],
   "source": [
    "print(text[4:])"
   ]
  },
  {
   "cell_type": "markdown",
   "metadata": {
    "slideshow": {
     "slide_type": "slide"
    }
   },
   "source": [
    "Here you see that `[:4]` selects characters 0,1,2,3, which is \"abcd\". With `[4:]` we start with position 4 (counting from 0!) until the end of the string, which results in \"efghij\".\n",
    "\n",
    "We can also specify a range. Try this:"
   ]
  },
  {
   "cell_type": "code",
   "execution_count": 22,
   "metadata": {
    "slideshow": {
     "slide_type": "fragment"
    }
   },
   "outputs": [
    {
     "name": "stdout",
     "output_type": "stream",
     "text": [
      "efgh\n"
     ]
    }
   ],
   "source": [
    "print(text[4:8])"
   ]
  },
  {
   "cell_type": "markdown",
   "metadata": {
    "slideshow": {
     "slide_type": "slide"
    }
   },
   "source": [
    "Was it what you expected?\n",
    "With ranges, the maximum value is not included in the selection.\n",
    "\n",
    "We still have the variable `sentence` available. Write code below to select the second word of the sentence using the correct range."
   ]
  },
  {
   "cell_type": "markdown",
   "metadata": {
    "slideshow": {
     "slide_type": "fragment"
    }
   },
   "source": [
    "Now try this:"
   ]
  },
  {
   "cell_type": "code",
   "execution_count": 23,
   "metadata": {
    "slideshow": {
     "slide_type": "fragment"
    }
   },
   "outputs": [
    {
     "name": "stdout",
     "output_type": "stream",
     "text": [
      "i\n"
     ]
    }
   ],
   "source": [
    "print(text[-2])"
   ]
  },
  {
   "cell_type": "markdown",
   "metadata": {
    "slideshow": {
     "slide_type": "slide"
    }
   },
   "source": [
    "What did it do?\n",
    "\n",
    "Right, you have selected the second character from the right! Note that here we start counting with -1 for the first character on the right.\n",
    "\n",
    "Try this:"
   ]
  },
  {
   "cell_type": "code",
   "execution_count": 24,
   "metadata": {
    "slideshow": {
     "slide_type": "fragment"
    }
   },
   "outputs": [
    {
     "name": "stdout",
     "output_type": "stream",
     "text": [
      "ghij\n"
     ]
    }
   ],
   "source": [
    "print(text[-4:])"
   ]
  },
  {
   "cell_type": "markdown",
   "metadata": {
    "slideshow": {
     "slide_type": "slide"
    }
   },
   "source": [
    "In human language: start with the 4th character from the right and give me all characters from that position to the end of the string.\n",
    "\n",
    "Now try this and find out what it does:"
   ]
  },
  {
   "cell_type": "code",
   "execution_count": 25,
   "metadata": {
    "slideshow": {
     "slide_type": "fragment"
    }
   },
   "outputs": [
    {
     "name": "stdout",
     "output_type": "stream",
     "text": [
      "acegi\n"
     ]
    }
   ],
   "source": [
    "print(text[::2])"
   ]
  },
  {
   "cell_type": "markdown",
   "metadata": {
    "slideshow": {
     "slide_type": "slide"
    }
   },
   "source": [
    "Strings are equipped with helper functions (utility)"
   ]
  },
  {
   "cell_type": "code",
   "execution_count": 26,
   "metadata": {
    "slideshow": {
     "slide_type": "fragment"
    }
   },
   "outputs": [
    {
     "name": "stdout",
     "output_type": "stream",
     "text": [
      "3\n"
     ]
    }
   ],
   "source": [
    "sentence = \"Twinkle twinkle little stars, how I wonder what you are\"\n",
    "print(sentence.count('o'))"
   ]
  },
  {
   "cell_type": "markdown",
   "metadata": {
    "slideshow": {
     "slide_type": "slide"
    }
   },
   "source": [
    "We can also find the position of character:"
   ]
  },
  {
   "cell_type": "code",
   "execution_count": 27,
   "metadata": {
    "slideshow": {
     "slide_type": "fragment"
    }
   },
   "outputs": [
    {
     "name": "stdout",
     "output_type": "stream",
     "text": [
      "6\n"
     ]
    }
   ],
   "source": [
    "print(sentence.find('e'))"
   ]
  },
  {
   "cell_type": "code",
   "execution_count": 28,
   "metadata": {
    "slideshow": {
     "slide_type": "slide"
    }
   },
   "outputs": [
    {
     "name": "stdout",
     "output_type": "stream",
     "text": [
      "HEY YOU, HOW ARE YOU DOING?\n",
      "['Hey you', ' how are you doing?']\n",
      "Hey you, how are you doing!\n"
     ]
    }
   ],
   "source": [
    "# Changes the string to upper case\n",
    "print(sometext.upper())\n",
    "\n",
    "# Splits the string on a character and returns it as list items. You'll learn about lists later\n",
    "print(sometext.split(\",\"))\n",
    "\n",
    "# Replaces strings\n",
    "print(sometext.replace(\"?\",\"!\"))"
   ]
  },
  {
   "cell_type": "markdown",
   "metadata": {
    "slideshow": {
     "slide_type": "slide"
    }
   },
   "source": [
    "There are also some special characters:\n",
    "\n",
    "`\\n` jumps to a new line\n",
    "\n",
    "`\\` is an escape character.\n",
    "\n",
    "Examples:"
   ]
  },
  {
   "cell_type": "code",
   "execution_count": 29,
   "metadata": {
    "slideshow": {
     "slide_type": "fragment"
    }
   },
   "outputs": [
    {
     "name": "stdout",
     "output_type": "stream",
     "text": [
      "This is a very long sentence and I want to split it into two lines.\n",
      "This is a very long sentence\n",
      "and I want to split it into two lines.\n",
      "This sentence contains a quote and I don't want the string to end (yet)\"\n"
     ]
    }
   ],
   "source": [
    "print(\"This is a very long sentence and I want to split it into two lines.\")\n",
    "print(\"This is a very long sentence\\nand I want to split it into two lines.\")\n",
    "\n",
    "print(\"This sentence contains a quote and I don't want the string to end (yet)\\\"\")"
   ]
  },
  {
   "cell_type": "markdown",
   "metadata": {
    "slideshow": {
     "slide_type": "skip"
    }
   },
   "source": [
    "< [Very simple 'programs'](PythonIntroCh1.ipynb) | [Contents](PythonIntro.ipynb) | [Loops, Loops, Loops, Loops...](PythonIntroCh3.ipynb) >"
   ]
  }
 ],
 "metadata": {
  "celltoolbar": "Slideshow",
  "kernelspec": {
   "display_name": "Python 3 (ipykernel)",
   "language": "python",
   "name": "python3"
  },
  "language_info": {
   "codemirror_mode": {
    "name": "ipython",
    "version": 3
   },
   "file_extension": ".py",
   "mimetype": "text/x-python",
   "name": "python",
   "nbconvert_exporter": "python",
   "pygments_lexer": "ipython3",
   "version": "3.10.6"
  },
  "varInspector": {
   "cols": {
    "lenName": 16,
    "lenType": 16,
    "lenVar": 40
   },
   "kernels_config": {
    "python": {
     "delete_cmd_postfix": "",
     "delete_cmd_prefix": "del ",
     "library": "var_list.py",
     "varRefreshCmd": "print(var_dic_list())"
    },
    "r": {
     "delete_cmd_postfix": ") ",
     "delete_cmd_prefix": "rm(",
     "library": "var_list.r",
     "varRefreshCmd": "cat(var_dic_list()) "
    }
   },
   "types_to_exclude": [
    "module",
    "function",
    "builtin_function_or_method",
    "instance",
    "_Feature"
   ],
   "window_display": false
  }
 },
 "nbformat": 4,
 "nbformat_minor": 2
}
