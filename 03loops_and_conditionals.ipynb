{
 "cells": [
  {
   "cell_type": "markdown",
   "metadata": {
    "slideshow": {
     "slide_type": "skip"
    }
   },
   "source": [
    "< [Programs in a file, variables and strings](PythonIntroCh2.ipynb) | [Contents](PythonIntro.ipynb) | [Functions](PythonIntroCh4.ipynb) >"
   ]
  },
  {
   "cell_type": "markdown",
   "metadata": {
    "slideshow": {
     "slide_type": "slide"
    }
   },
   "source": [
    "# 3. Loops, Loops, Loops, Loops...\n",
    "##  Introduction\n",
    "(Our final lesson before we get into interacting with human input. Can't wait, can you?)\n",
    "\n",
    "\n",
    "## The 'While' loop\n",
    "The following are examples of a type of loop, called the 'while' loop:\n"
   ]
  },
  {
   "cell_type": "code",
   "execution_count": 8,
   "metadata": {
    "slideshow": {
     "slide_type": "slide"
    }
   },
   "outputs": [
    {
     "name": "stdout",
     "output_type": "stream",
     "text": [
      "1 2 3 4 5 6 7 8 9 10 "
     ]
    }
   ],
   "source": [
    "a = 0\n",
    "while a < 10:\n",
    "    a = a + 1\n",
    "    print(a, end = \" \")"
   ]
  },
  {
   "cell_type": "markdown",
   "metadata": {
    "slideshow": {
     "slide_type": "fragment"
    }
   },
   "source": [
    "How does this program work? Lets go through it in English:\n",
    "```\n",
    "'a' now equals 0\n",
    "As long as 'a' is less than 10, do the following:\n",
    "   Make 'a' one larger than what it already is.\n",
    "   Print on-screen what 'a' is now worth.\n",
    "```"
   ]
  },
  {
   "cell_type": "markdown",
   "metadata": {
    "slideshow": {
     "slide_type": "slide"
    }
   },
   "source": [
    "What does this do? Let's go through what the computer would be 'thinking' when it is in the 'while' loop:"
   ]
  },
  {
   "cell_type": "markdown",
   "metadata": {
    "slideshow": {
     "slide_type": "slide"
    }
   },
   "source": [
    "So in short, try to think of it that way when you write 'while' loops. This is how you write them, by the way (syntax):\n",
    "```\n",
    "while {condition that the loop continues}:\n",
    "    {what to do in the loop}\n",
    "    {have it indented, usually four spaces}\n",
    "the code here is not looped\n",
    "because it isn't indented\n",
    "```"
   ]
  },
  {
   "cell_type": "markdown",
   "metadata": {
    "slideshow": {
     "slide_type": "slide"
    }
   },
   "source": [
    "Now try to understand this example and run to see if it is what you expected."
   ]
  },
  {
   "cell_type": "code",
   "execution_count": null,
   "metadata": {
    "slideshow": {
     "slide_type": "fragment"
    }
   },
   "outputs": [],
   "source": [
    "x = 10\n",
    "while x != 0:\n",
    "    print(x)\n",
    "    x = x - 1\n",
    "    print(\"wow, we've counted x down, and now it equals\", x)\n",
    "print(\"And now the loop has ended.\")"
   ]
  },
  {
   "cell_type": "markdown",
   "metadata": {
    "slideshow": {
     "slide_type": "slide"
    }
   },
   "source": [
    "## The 'for' loop"
   ]
  },
  {
   "cell_type": "code",
   "execution_count": 10,
   "metadata": {
    "slideshow": {
     "slide_type": "fragment"
    }
   },
   "outputs": [
    {
     "name": "stdout",
     "output_type": "stream",
     "text": [
      "1 2 3 4 5 6 7 8 9 10 "
     ]
    }
   ],
   "source": [
    "a = 0\n",
    "for a in range(10):\n",
    "    a = a + 1\n",
    "    print(a, end = \" \")"
   ]
  },
  {
   "cell_type": "markdown",
   "metadata": {
    "slideshow": {
     "slide_type": "fragment"
    }
   },
   "source": [
    "How does this program work? Lets go through it in English:\n",
    "```\n",
    "'a' now equals 0\n",
    "For each 'a' from 0 to 9, do the following:\n",
    "   Make 'a' one larger than what it already is.\n",
    "   Print on-screen what 'a' is now worth.\n",
    "```"
   ]
  },
  {
   "cell_type": "markdown",
   "metadata": {
    "slideshow": {
     "slide_type": "slide"
    }
   },
   "source": [
    "## Loopy strings\n",
    "\n",
    "The in operator checks if a value is in a collection of values, while the in keyword in a for loop indicates the iterable that you want to draw from."
   ]
  },
  {
   "cell_type": "code",
   "execution_count": 5,
   "metadata": {
    "slideshow": {
     "slide_type": "fragment"
    }
   },
   "outputs": [
    {
     "name": "stdout",
     "output_type": "stream",
     "text": [
      "K\n",
      "a\n",
      "t\n",
      "h\n",
      "m\n",
      "a\n",
      "n\n",
      "d\n",
      "u\n"
     ]
    }
   ],
   "source": [
    "place = \"Kathmandu\"\n",
    "for i in place:\n",
    "    print(i)"
   ]
  },
  {
   "cell_type": "markdown",
   "metadata": {
    "slideshow": {
     "slide_type": "slide"
    }
   },
   "source": [
    "Another example:"
   ]
  },
  {
   "cell_type": "code",
   "execution_count": 6,
   "metadata": {
    "slideshow": {
     "slide_type": "fragment"
    }
   },
   "outputs": [
    {
     "name": "stdout",
     "output_type": "stream",
     "text": [
      "i H\n",
      "i e\n",
      "i l\n",
      "i l\n",
      "i o\n",
      "i w\n",
      "i o\n",
      "i r\n",
      "i l\n",
      "i d\n"
     ]
    }
   ],
   "source": [
    "for i in \"Helloworld\":\n",
    "    print(\"i\",i)"
   ]
  },
  {
   "cell_type": "markdown",
   "metadata": {
    "slideshow": {
     "slide_type": "slide"
    }
   },
   "source": [
    "## 3.3 Boolean Expressions (Boolen... what?!?)\n",
    "\n",
    "| Expression | Function  |\n",
    "|   :---:    |   :---:   |\n",
    "|    `<`     | Less than |\n",
    "| `<=` | Less than or equal to |\n",
    "| `>` | Greater than |\n",
    "| `>=` | Greater than or equal to |\n",
    "| `!=` | Not equal to |\n",
    "| `<>` | Not equal to (alternate) |\n",
    "| `==` | Equal to |\n",
    "\n",
    "Don't get `=` and `==` mixed up - the `=` operator makes what is on the left equal to what is on the right. the `==` operator says whether the thing on the left is the same as what is on the right, and returns True or False.\n",
    "\n",
    "\n"
   ]
  },
  {
   "cell_type": "markdown",
   "metadata": {
    "slideshow": {
     "slide_type": "slide"
    }
   },
   "source": [
    "## 3.4 Conditional Statements\n",
    "\n",
    "Conditionals are where a section of code is only run if certain conditions are met. This is similar to the 'while' however, Conditionals are only run once. \n",
    "\n",
    "The most common conditional in any program language, is the 'if' statement. Here is how it works:<br>\n",
    "```\n",
    "if {conditions to be met}:\n",
    "    {do this}\n",
    "    {and this}\n",
    "    {and this}\n",
    "{but this happens regardless}\n",
    "{because it isn't indented}\n",
    "```"
   ]
  },
  {
   "cell_type": "code",
   "execution_count": null,
   "metadata": {
    "slideshow": {
     "slide_type": "slide"
    }
   },
   "outputs": [],
   "source": [
    "#EXAMPLE 1\n",
    "y = 1\n",
    "if y == 1:\n",
    "    print(\"y still equals 1, I was just checking\")"
   ]
  },
  {
   "cell_type": "code",
   "execution_count": null,
   "metadata": {
    "slideshow": {
     "slide_type": "slide"
    }
   },
   "outputs": [],
   "source": [
    "#EXAMPLE 2\n",
    "print(\"We will show the even numbers up to 20\")\n",
    "n = 1\n",
    "while n <= 20:\n",
    "    if n % 2 == 0:\n",
    "        print(n)\n",
    "    n = n + 1\n",
    "print(\"there, done.\")"
   ]
  },
  {
   "cell_type": "markdown",
   "metadata": {
    "slideshow": {
     "slide_type": "fragment"
    }
   },
   "source": [
    "Example 2 there looks tricky. But all we have done is run an `if` statement every time the `while` loop runs. Remember that the `%` just means the remainder from a division - just checking that there is nothing left over if the number is divided by two - showing it is even. If it is even, it prints what `n` is."
   ]
  },
  {
   "cell_type": "markdown",
   "metadata": {
    "slideshow": {
     "slide_type": "slide"
    }
   },
   "source": [
    "## 3.5 `else` and `elif` - When it Ain't True\n",
    "There are many ways you can use the `if` statement to deal with situations where your boolean expression ends up FALSE. They are `else` and `elif`.<br>\n",
    "`else` simply tells the computer what to do if the conditions of `if` aren't met. For example, read the following:"
   ]
  },
  {
   "cell_type": "code",
   "execution_count": null,
   "metadata": {
    "slideshow": {
     "slide_type": "fragment"
    }
   },
   "outputs": [],
   "source": [
    "a = 1\n",
    "if a > 5:\n",
    "    print(\"This shouldn't happen.\")\n",
    "else:\n",
    "    print(\"This should happen.\")"
   ]
  },
  {
   "cell_type": "markdown",
   "metadata": {
    "slideshow": {
     "slide_type": "slide"
    }
   },
   "source": [
    "`a` is not greater than five, therefore what is under `else` is done.\n",
    "\n",
    "`elif` is just a shortened way of saying `else if`. When the `if` statement fails to be true, `elif` will do what is under it IF the conditions are met. For example:"
   ]
  },
  {
   "cell_type": "code",
   "execution_count": null,
   "metadata": {
    "slideshow": {
     "slide_type": "fragment"
    }
   },
   "outputs": [],
   "source": [
    "z = 4\n",
    "if z > 70:\n",
    "    print(\"Something is very wrong\")\n",
    "elif z < 7:\n",
    "    print(\"This is normal\")"
   ]
  },
  {
   "cell_type": "markdown",
   "metadata": {
    "slideshow": {
     "slide_type": "slide"
    }
   },
   "source": [
    "The `if` statement, along with `else` and `elif` follow this form:\n",
    "```Python\n",
    "if {conditions}:\n",
    "    {run this code}\n",
    "elif {conditions}:\n",
    "    {run this code}\n",
    "elif {conditions}:\n",
    "    {run this code}\n",
    "else:\n",
    "    {run this code}\n",
    "#You can have as many or as little elif statements as you need\n",
    "#anywhere from zero to the sky.\n",
    "#You can have at most one else statement\n",
    "#and only after all other ifs and elifs.\n",
    "```"
   ]
  },
  {
   "cell_type": "markdown",
   "metadata": {
    "slideshow": {
     "slide_type": "slide"
    }
   },
   "source": [
    "***One of the most important points to remember is that you MUST have a colon `:` at the end of every line with an `if`, `elif`, `else` or `while` in it.***"
   ]
  },
  {
   "cell_type": "markdown",
   "metadata": {
    "slideshow": {
     "slide_type": "slide"
    }
   },
   "source": [
    "## Indentation\n",
    "One other point is that the code to be executed if the conditions are met, MUST BE INDENTED. That means that if you want to loop the next five lines with a `while` loop, you must put a set number of spaces at the beginning of each of the next five lines. This is good programming practice in any language, but Python requires that you do it. Here is an example of both of the above points:"
   ]
  },
  {
   "cell_type": "code",
   "execution_count": 12,
   "metadata": {
    "slideshow": {
     "slide_type": "slide"
    }
   },
   "outputs": [
    {
     "name": "stdout",
     "output_type": "stream",
     "text": [
      "10\n",
      "Big number!\n",
      "we just made 'a' one less than what it was!\n",
      "9\n",
      "Big number!\n",
      "we just made 'a' one less than what it was!\n",
      "8\n",
      "Big number!\n",
      "we just made 'a' one less than what it was!\n",
      "7\n",
      "Big number!\n",
      "we just made 'a' one less than what it was!\n",
      "6\n",
      "Big number!\n",
      "we just made 'a' one less than what it was!\n",
      "5\n",
      "This is an odd number\n",
      "we just made 'a' one less than what it was!\n",
      "4\n",
      "this number isn't greater than 5\n",
      "we just made 'a' one less than what it was!\n",
      "3\n",
      "This is an odd number\n",
      "we just made 'a' one less than what it was!\n",
      "2\n",
      "this number isn't greater than 5\n",
      "we just made 'a' one less than what it was!\n",
      "1\n",
      "This is an odd number\n",
      "we just made 'a' one less than what it was!\n",
      "well, it seems as if 'a' is now no bigger than 0!\n"
     ]
    }
   ],
   "source": [
    "a = 10\n",
    "while a > 0:\n",
    "    print(a)\n",
    "    if a > 5:\n",
    "        print(\"Big number!\")\n",
    "    elif a % 2 != 0:\n",
    "        print(\"This is an odd number\")\n",
    "    else:\n",
    "        print(\"this number isn't greater than 5\")\n",
    "    a = a - 1\n",
    "    print(\"we just made 'a' one less than what it was!\")\n",
    "print(\"well, it seems as if 'a' is now no bigger than 0!\")"
   ]
  },
  {
   "cell_type": "markdown",
   "metadata": {
    "slideshow": {
     "slide_type": "slide"
    }
   },
   "source": [
    "Notice the three levels of indents there:\n",
    "1.\tEach line in the first level starts with no spaces. It is the main program, and will always execute.\n",
    "2.\tEach line in the second level starts with four spaces. When there is an `if` or loop on the first level, everything on the second level after that will be looped/'ifed', until a new line starts back on the first level again.\n",
    "3.\tEach line in the third level starts with eight spaces. When there is an `if` or loop on the second level, everything on the third level after that will be looped/'ifed', until a new line starts back on the second level again."
   ]
  },
  {
   "cell_type": "markdown",
   "metadata": {
    "slideshow": {
     "slide_type": "slide"
    }
   },
   "source": [
    "This goes on infinitely, until the person writing the program has an internal brain explosion, and cannot understand anything he/she has written."
   ]
  },
  {
   "cell_type": "markdown",
   "metadata": {
    "slideshow": {
     "slide_type": "skip"
    }
   },
   "source": [
    "< [Programs in a file, variables and strings](PythonIntroCh2.ipynb) | [Contents](PythonIntro.ipynb) | [Functions](PythonIntroCh4.ipynb) >"
   ]
  }
 ],
 "metadata": {
  "celltoolbar": "Slideshow",
  "kernelspec": {
   "display_name": "Python 3 (ipykernel)",
   "language": "python",
   "name": "python3"
  },
  "language_info": {
   "codemirror_mode": {
    "name": "ipython",
    "version": 3
   },
   "file_extension": ".py",
   "mimetype": "text/x-python",
   "name": "python",
   "nbconvert_exporter": "python",
   "pygments_lexer": "ipython3",
   "version": "3.10.6"
  },
  "varInspector": {
   "cols": {
    "lenName": 16,
    "lenType": 16,
    "lenVar": 40
   },
   "kernels_config": {
    "python": {
     "delete_cmd_postfix": "",
     "delete_cmd_prefix": "del ",
     "library": "var_list.py",
     "varRefreshCmd": "print(var_dic_list())"
    },
    "r": {
     "delete_cmd_postfix": ") ",
     "delete_cmd_prefix": "rm(",
     "library": "var_list.r",
     "varRefreshCmd": "cat(var_dic_list()) "
    }
   },
   "types_to_exclude": [
    "module",
    "function",
    "builtin_function_or_method",
    "instance",
    "_Feature"
   ],
   "window_display": false
  }
 },
 "nbformat": 4,
 "nbformat_minor": 2
}
