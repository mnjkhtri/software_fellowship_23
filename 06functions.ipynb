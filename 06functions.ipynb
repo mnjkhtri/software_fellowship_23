{
 "cells": [
  {
   "cell_type": "markdown",
   "metadata": {
    "slideshow": {
     "slide_type": "slide"
    }
   },
   "source": [
    "\n",
    "\n",
    "<br>\n",
    "\n",
    "# 4. Functions\n",
    "## 4.1 Introduction\n",
    "\n",
    "What are functions? Well, in effect, functions are little self-contained programs that perform a specific task, which you can incorporate into your own, larger programs. After you have created a function, you can use it at any time, in any place. This saves you the time and effort of having to retell the computer what to do every time it does a common task, for example getting the user to type something in.\n",
    "\n",
    "## 4.2 Using a Function\n",
    "Python has lots of pre-made functions, that you can use right now, simply by 'calling' them. 'Calling' a function involves you giving a function input, and it will return a value (like a variable would) as output. Don't understand? Here is the general form that calling a function takes:<br>\n",
    "`function_name(parameters)`\n",
    "\n",
    "See? Easy.\n",
    "\n",
    "- `Function_name` identifies which function it is you want to use (You'd figure...). For example, the function `raw_input`, which will be the first function that we will use.\n",
    "- `Parameters` are the values you pass to the function to tell it what is should do, and how to do it... for example, if a function multiplied any given number by five, the stuff in parameters tells the function which number it should multiply by five. Put the number 70 into parameters, and the function will do 70 x 5."
   ]
  },
  {
   "cell_type": "markdown",
   "metadata": {
    "slideshow": {
     "slide_type": "slide"
    }
   },
   "source": [
    "\n",
    "def function_name(parameter_1,parameter_2):\n",
    "    {this is the code in the function}\n",
    "    {more code}\n",
    "    {more code}\n",
    "    return {value to return to the main program}\n",
    "{this code isn't in the function}\n",
    "{because it isn't indented}\n"
   ]
  },
  {
   "cell_type": "markdown",
   "metadata": {
    "slideshow": {
     "slide_type": "slide"
    }
   },
   "source": [
    "## 4.3 Parameters and Returned Values - Communicating with Functions\n",
    "\n",
    "`multiply(5*4)`<br>\n",
    "`multiply()` isn't a real function, unless you create it.\n"
   ]
  },
  {
   "cell_type": "code",
   "execution_count": 1,
   "metadata": {
    "slideshow": {
     "slide_type": "slide"
    }
   },
   "outputs": [
    {
     "data": {
      "text/plain": [
       "15"
      ]
     },
     "execution_count": 1,
     "metadata": {},
     "output_type": "execute_result"
    }
   ],
   "source": [
    "def multiply(x,y):\n",
    "    return x*y\n",
    "multiply(5,3)"
   ]
  },
  {
   "cell_type": "code",
   "execution_count": 2,
   "metadata": {
    "slideshow": {
     "slide_type": "slide"
    }
   },
   "outputs": [
    {
     "name": "stdout",
     "output_type": "stream",
     "text": [
      "You are doing good work, Nadika!\n",
      "Thank you very much for your efforts on this fellowship.\n",
      "\n",
      "You are doing good work, Nabin!\n",
      "Thank you very much for your efforts on this fellowship.\n",
      "\n",
      "You are doing good work, Mahima!\n",
      "Thank you very much for your efforts on this fellowship.\n"
     ]
    }
   ],
   "source": [
    "print(\"You are doing good work, Nadika!\")\n",
    "print(\"Thank you very much for your efforts on this fellowship.\")\n",
    "\n",
    "print(\"\\nYou are doing good work, Nabin!\")\n",
    "print(\"Thank you very much for your efforts on this fellowship.\")\n",
    "\n",
    "print(\"\\nYou are doing good work, Mahima!\")\n",
    "print(\"Thank you very much for your efforts on this fellowship.\")"
   ]
  },
  {
   "cell_type": "code",
   "execution_count": 3,
   "metadata": {
    "slideshow": {
     "slide_type": "slide"
    }
   },
   "outputs": [
    {
     "name": "stdout",
     "output_type": "stream",
     "text": [
      "\n",
      "You are doing good work, Nadika!\n",
      "Thank you very much for your efforts on this project.\n",
      "\n",
      "You are doing good work, Nabin!\n",
      "Thank you very much for your efforts on this project.\n",
      "\n",
      "You are doing good work, Mahima!\n",
      "Thank you very much for your efforts on this project.\n"
     ]
    }
   ],
   "source": [
    "def thank_you(name):\n",
    "    # This function prints a two-line personalized thank you message.\n",
    "    print(\"\\nYou are doing good work, %s!\" % name)\n",
    "    print(\"Thank you very much for your efforts on this project.\")\n",
    "    \n",
    "thank_you('Nadika')\n",
    "thank_you('Nabin')\n",
    "thank_you('Mahima')"
   ]
  },
  {
   "cell_type": "code",
   "execution_count": 4,
   "metadata": {
    "slideshow": {
     "slide_type": "slide"
    }
   },
   "outputs": [
    {
     "name": "stdout",
     "output_type": "stream",
     "text": [
      "\n",
      "You are doing good work, Nadika!\n",
      "Thank you very much for your efforts on this project.\n",
      "\n",
      "You are doing good work, Nabin!\n",
      "Thank you very much for your efforts on this project.\n",
      "\n",
      "You are doing good work, Mahima!\n",
      "Thank you very much for your efforts on this project.\n"
     ]
    }
   ],
   "source": [
    "thank_you('Nadika')\n",
    "thank_you('Nabin')\n",
    "thank_you('Mahima')\n",
    "def thank_you(name):\n",
    "    # This function prints a two-line personalized thank you message.\n",
    "    print(\"\\nYou are doing good work, %s!\" % name)\n",
    "    print(\"Thank you very much for your efforts on this project.\")"
   ]
  },
  {
   "cell_type": "markdown",
   "metadata": {
    "slideshow": {
     "slide_type": "slide"
    }
   },
   "source": [
    "Local and global funcitions!\n",
    "Nicknames?\n",
    "Local variables are defined within a function and can only be accessed within that specific function.\n"
   ]
  },
  {
   "cell_type": "markdown",
   "metadata": {
    "slideshow": {
     "slide_type": "slide"
    }
   },
   "source": [
    "def calculate_sum(a, b):\n",
    "       result = a + b\n",
    "    print(\"Inside the function, the sum is:\", result)\n",
    "\n",
    "\n",
    "calculate_sum(5, 3)\n",
    "print(\"Outside the function, the sum is:\", result)  # This will throw an error\n"
   ]
  },
  {
   "cell_type": "code",
   "execution_count": 5,
   "metadata": {
    "slideshow": {
     "slide_type": "slide"
    }
   },
   "outputs": [
    {
     "name": "stdout",
     "output_type": "stream",
     "text": [
      "The value of x is: 10\n",
      "Modified the global value of x to: 20\n",
      "After modification, the value of x is: 20\n"
     ]
    }
   ],
   "source": [
    "\n",
    "x = 10\n",
    "\n",
    "def print_number():\n",
    "    print(\"The value of x is:\", x)\n",
    "\n",
    "def modify_number():   \n",
    "    global x\n",
    "    x = 20\n",
    "    print(\"Modified the global value of x to:\", x)\n",
    "\n",
    "\n",
    "print_number()\n",
    "modify_number()\n",
    "print(\"After modification, the value of x is:\", x)\n"
   ]
  },
  {
   "cell_type": "code",
   "execution_count": 6,
   "metadata": {
    "slideshow": {
     "slide_type": "slide"
    }
   },
   "outputs": [
    {
     "name": "stdout",
     "output_type": "stream",
     "text": [
      "The word created is: YeSalaCupNamde\n"
     ]
    },
    {
     "data": {
      "text/plain": [
       "'YeSalaCupNamde'"
      ]
     },
     "execution_count": 6,
     "metadata": {},
     "output_type": "execute_result"
    }
   ],
   "source": [
    "def funnyfunction(first_word,second_word,third_word):\n",
    "    print(\"The word created is: \" + first_word + second_word + third_word)\n",
    "    return first_word + second_word + third_word\n",
    "funnyfunction('YeSala','Cup',\"Namde\")"
   ]
  },
  {
   "cell_type": "markdown",
   "metadata": {
    "slideshow": {
     "slide_type": "slide"
    }
   },
   "source": [
    " ### 4.4 Args And Kwargs"
   ]
  },
  {
   "cell_type": "code",
   "execution_count": 7,
   "metadata": {
    "slideshow": {
     "slide_type": "slide"
    }
   },
   "outputs": [
    {
     "name": "stdout",
     "output_type": "stream",
     "text": [
      "15\n"
     ]
    }
   ],
   "source": [
    "#args: positional arguments\n",
    "def sum_numbers(*args):\n",
    "    total = 0\n",
    "    for num in args:\n",
    "        total += num\n",
    "    return total\n",
    "\n",
    "result = sum_numbers(1, 2, 3, 4, 5)\n",
    "print(result)  # Output: 15\n"
   ]
  },
  {
   "cell_type": "code",
   "execution_count": 8,
   "metadata": {
    "slideshow": {
     "slide_type": "slide"
    }
   },
   "outputs": [],
   "source": [
    "#kwargs: keyword arguments\n",
    "def print_dict(*args,**kwargs):\n",
    "    for key,value in kwargs.items():\n",
    "        print(key,value)\n",
    "        \n",
    "values={\n",
    "    \"mahima\":\"instructor\",\n",
    "    \"you\":\"fellow\"\n",
    "}\n",
    "\n",
    "print_dict(values)"
   ]
  },
  {
   "cell_type": "markdown",
   "metadata": {
    "slideshow": {
     "slide_type": "slide"
    }
   },
   "source": [
    "## 4.4 A Calculator Program\n",
    "\n"
   ]
  },
  {
   "cell_type": "code",
   "execution_count": null,
   "metadata": {
    "slideshow": {
     "slide_type": "slide"
    }
   },
   "outputs": [],
   "source": [
    "a=input(\"enter the first number\")\n",
    "b=input(\"enter thes second number\")\n",
    "\n",
    "print(a,b)\n",
    "print(type(a),type(b))\n",
    "\n"
   ]
  },
  {
   "cell_type": "code",
   "execution_count": null,
   "metadata": {
    "slideshow": {
     "slide_type": "slide"
    }
   },
   "outputs": [],
   "source": [
    "x=int(a)\n",
    "y=int(b)\n",
    "\n",
    "print(x+y)\n",
    "print(x*y)"
   ]
  },
  {
   "cell_type": "code",
   "execution_count": null,
   "metadata": {
    "slideshow": {
     "slide_type": "slide"
    }
   },
   "outputs": [],
   "source": [
    "loop = 1\n",
    "choice = 0\n",
    "\n",
    "while loop == 1:    \n",
    "    print(\"Welcome to calculator.py\")\n",
    "    print(\"Your options are:\")\n",
    "    print(\"1. Addition\")\n",
    "    print(\"2. Subtraction\")\n",
    "    print(\"3. Multiplication\")\n",
    "    print(\"4. Division\")\n",
    "    print(\"5. Quit calculator.py\")\n",
    "    print(\" \")\n",
    "    choice = int(input(\"Choose your option: \"))  # Convert input to integer\n",
    "\n",
    "    if choice == 1:\n",
    "        x = int(input(\"Enter 1st number: \"))\n",
    "        y = int(input(\"Enter 2nd number: \"))\n",
    "        print(\"Result:\", x + y)\n",
    "    elif choice == 2:\n",
    "        x = int(input(\"Enter 1st number: \"))\n",
    "        y = int(input(\"Enter 2nd number: \"))\n",
    "        print(\"Result:\", x - y)\n",
    "    elif choice == 3:\n",
    "        x = int(input(\"Enter 1st number: \"))\n",
    "        y = int(input(\"Enter 2nd number: \"))\n",
    "        print(\"Result:\", x * y)\n",
    "    elif choice == 4:\n",
    "        x = int(input(\"Enter 1st number: \"))\n",
    "        y = int(input(\"Enter 2nd number: \"))\n",
    "        print(\"Result:\", x / y)\n",
    "    elif choice == 5:\n",
    "        loop = 0\n",
    "        \n",
    "print(\"Thank you for using calculator.py!\")\n"
   ]
  },
  {
   "cell_type": "code",
   "execution_count": null,
   "metadata": {},
   "outputs": [],
   "source": [
    "### Now Assignment: Use functions !!"
   ]
  },
  {
   "cell_type": "code",
   "execution_count": null,
   "metadata": {
    "slideshow": {
     "slide_type": "slide"
    }
   },
   "outputs": [],
   "source": [
    "def menu():\n",
    "    #print what options you have\n",
    "    print(\"Welcome to calculator.py\")\n",
    "    print(\"your options are:\")\n",
    "    print(\" \")\n",
    "    print(\"1. Addition\")\n",
    "    print(\"2. Subtraction\")\n",
    "    print(\"3. Multiplication\")\n",
    "    print(\"4. Division\")\n",
    "    print(\"5. Quit calculator.py\")\n",
    "    print(\" \")\n",
    "    return eval(input(\"Choose your option: \"))\n",
    "    \n",
    "# this adds two numbers given\n",
    "def add(a,b):\n",
    "    print(a, \"+\", b, \"=\", a + b)\n",
    "    \n",
    "# this subtracts two numbers given\n",
    "def sub(a,b):\n",
    "    print(b, \"-\", a, \"=\", b - a)\n",
    "    \n",
    "# this multiplies two numbers given\n",
    "def mul(a,b):\n",
    "    print(a, \"*\", b, \"=\", a * b)\n",
    "    \n",
    "# this divides two numbers given\n",
    "def div(a,b):\n",
    "    print(a, \"/\", b, \"=\", a / b)\n",
    "    \n",
    "# NOW THE PROGRAM REALLY STARTS, AS CODE IS RUN\n",
    "loop = 1\n",
    "choice = 0\n",
    "while loop == 1:\n",
    "    choice = menu()\n",
    "\n",
    "    if choice == 1:\n",
    "        x = int(input(\"Enter 1st number\"))\n",
    "        y = int(input(\"Enter 2nd number\"))\n",
    "        print(x+y)\n",
    "    elif choice == 2:\n",
    "        x = int(input(\"Enter 1st number\"))\n",
    "        y = int(input(\"Enter 2nd number\"))\n",
    "        print(x-y)\n",
    "    elif choice == 3:\n",
    "        x = int(input(\"Enter 1st number\"))\n",
    "        y = int(input(\"Enter 2nd number\"))\n",
    "        print(x*y)\n",
    "    elif choice == 4:\n",
    "        x = int(input(\"Enter 1st number\"))\n",
    "        y = int(input(\"Enter 2nd number\"))\n",
    "        print(x/y)\n",
    "    elif choice == 5:\n",
    "        loop = 0\n",
    "\n",
    "print(\"Thank you for using calculator.py!\")\n",
    "\n",
    "# NOW THE PROGRAM REALLY FINISHES"
   ]
  },
  {
   "cell_type": "markdown",
   "metadata": {
    "slideshow": {
     "slide_type": "slide"
    }
   },
   "source": [
    "## 4.9 Conclusion\n",
    "WHOA!!!! WHAT A KILLER LESSON!!! Thenkuuuuuuuuuuu !"
   ]
  },
  {
   "cell_type": "code",
   "execution_count": null,
   "metadata": {},
   "outputs": [],
   "source": []
  },
  {
   "cell_type": "code",
   "execution_count": null,
   "metadata": {},
   "outputs": [],
   "source": []
  }
 ],
 "metadata": {
  "celltoolbar": "Slideshow",
  "kernelspec": {
   "display_name": "Python 3 (ipykernel)",
   "language": "python",
   "name": "python3"
  },
  "language_info": {
   "codemirror_mode": {
    "name": "ipython",
    "version": 3
   },
   "file_extension": ".py",
   "mimetype": "text/x-python",
   "name": "python",
   "nbconvert_exporter": "python",
   "pygments_lexer": "ipython3",
   "version": "3.11.3"
  },
  "varInspector": {
   "cols": {
    "lenName": 16,
    "lenType": 16,
    "lenVar": 40
   },
   "kernels_config": {
    "python": {
     "delete_cmd_postfix": "",
     "delete_cmd_prefix": "del ",
     "library": "var_list.py",
     "varRefreshCmd": "print(var_dic_list())"
    },
    "r": {
     "delete_cmd_postfix": ") ",
     "delete_cmd_prefix": "rm(",
     "library": "var_list.r",
     "varRefreshCmd": "cat(var_dic_list()) "
    }
   },
   "types_to_exclude": [
    "module",
    "function",
    "builtin_function_or_method",
    "instance",
    "_Feature"
   ],
   "window_display": false
  }
 },
 "nbformat": 4,
 "nbformat_minor": 2
}
