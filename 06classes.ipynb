{
 "cells": [
  {
   "cell_type": "markdown",
   "metadata": {},
   "source": [
    "< [For Loop](PythonIntroCh6.ipynb) | [Contents](PythonIntro.ipynb) | [Modules](PythonIntroCh8.ipynb) >"
   ]
  },
  {
   "cell_type": "markdown",
   "metadata": {},
   "source": [
    "# 7. Object Oriented Programming\n",
    "## 7.1 Introduction\n",
    "One thing that you will get to know about programming, is that programmers like to be lazy. If something has been done before, why should you do it again?\n",
    "\n",
    "That is what functions cover in Python. You've already had your code do something special. Now you want to do it again. You put that special code into a function, and re-use it for all it is worth. You can refer to a function anywhere in your code, and the computer will always know what you are talking about. Handy, eh?\n",
    "\n",
    "Of course, functions have their limitations. Functions don't store any information like variables do - every time a function is run, it starts afresh. However, certain functions and variables are related to each other very closely, and need to interact with each other a lot. For example, imagine you have a golf club. It has information about it (i.e. variables) like the length of the shaft, the material of the grip, and the material of the head. It also has functions associated with it, like the function of swinging your golf club, or the function of breaking it in pure frustration. For those functions, you need to know the variables of the shaft length, head material, etc.\n",
    "\n",
    "Object-oriented-programming puts functions and variables together in a way that they can see each other and work together, be replicated, and altered as needed, and not when unneeded.\n",
    "This solves the hassle of managing the data which are associated with the functions\n",
    "And we use a thing called a `class` to do this.\n",
    "\n"
   ]
  },
  {
   "cell_type": "markdown",
   "metadata": {},
   "source": [
    "### WHY OOP?"
   ]
  },
  {
   "cell_type": "code",
   "execution_count": 14,
   "metadata": {},
   "outputs": [],
   "source": [
    "student1_name = \"Abhishek\"\n",
    "student1_address = \"Pokhara\"\n",
    "student1_marks1 = 80\n",
    "student1_marks2 = 85\n",
    "student1_marks3 = 70\n",
    "\n",
    "student2_name = \"Manoj\"\n",
    "student2_address = \"Butwal\"\n",
    "student2_marks1 = 90\n",
    "student2_marks2 = 70\n",
    "student2_marks3 = 85\n"
   ]
  },
  {
   "cell_type": "code",
   "execution_count": 15,
   "metadata": {},
   "outputs": [],
   "source": [
    "def calculate_average(*marks):\n",
    "    avg = sum(marks)\n",
    "    avg = avg/3\n",
    "    return avg"
   ]
  },
  {
   "cell_type": "code",
   "execution_count": 16,
   "metadata": {},
   "outputs": [
    {
     "name": "stdout",
     "output_type": "stream",
     "text": [
      "Average of Abhishek is: 78.33333333333333\n",
      "Average of Manoj is: 81.66666666666667\n"
     ]
    }
   ],
   "source": [
    "student1_avg = calculate_average(student1_marks1,student1_marks2,student1_marks3 )\n",
    "print(f'Average of {student1_name} is: {student1_avg}')\n",
    "\n",
    "student2_avg = calculate_average(student2_marks1,student2_marks2,student2_marks3 )\n",
    "print(f'Average of {student2_name} is: {student2_avg}')"
   ]
  },
  {
   "cell_type": "markdown",
   "metadata": {},
   "source": [
    "### What if I want to calculate average marks of lots of students say 100 students?\n",
    "This way i need to manage all the variables of marks of three subjects of all those 100 students separately.Oh gosh.\n",
    "Even though the marks and calculate_average functions are related , they are separated and not quite intuitive.\n",
    "\n",
    "OOP came to solve this problem , here we group related data and functions together and also it models the real world entity well."
   ]
  },
  {
   "cell_type": "markdown",
   "metadata": {},
   "source": [
    "## CLASS"
   ]
  },
  {
   "cell_type": "markdown",
   "metadata": {},
   "source": [
    "A class can be understood as a template or a blueprint, which contains some values, known as data members, and some set of rules, known as behaviors or methods.\n",
    "\n",
    "The class is a template or blueprint for objects.\n",
    "One can make as many objects as they want to be based on a class."
   ]
  },
  {
   "cell_type": "markdown",
   "metadata": {},
   "source": [
    "<img src = \"class.png\">"
   ]
  },
  {
   "cell_type": "markdown",
   "metadata": {},
   "source": [
    "## OBJECTS"
   ]
  },
  {
   "cell_type": "markdown",
   "metadata": {},
   "source": [
    "Classes are user-defined data types that act as the blueprint for individual objects, attributes and methods. Objects are instances of a class created with specifically defined data."
   ]
  },
  {
   "cell_type": "markdown",
   "metadata": {},
   "source": [
    "<img src=\"class2.png\">"
   ]
  },
  {
   "cell_type": "markdown",
   "metadata": {},
   "source": [
    "## 7.2 Creating a `Class`\n",
    "What is a class? Think of a class as a blueprint. It isn't something in itself, it simply describes how to make something. You can create lots of objects from that blueprint - known technically as an *instance*.\n",
    "\n",
    "So how do you make these so-called 'classes'? very easily, with the `class` operator:\n",
    "\n",
    "```Python\n",
    "# Defining a class\n",
    "class class_name:\n",
    "    [statement 1]\n",
    "    [statement 2]\n",
    "    [statement 3]\n",
    "    [etc]\n",
    "```\n",
    "```Python\n",
    "class Person:\n",
    "    pass\n",
    "x = Person()\n",
    "y = Person()\n",
    "x.name = \"Avisek\"\n",
    "x.hobby = \"football\"\n",
    "y.name = \"Manoj\"\n",
    "y.hobby = \"basketball\"\n",
    "```\n",
    "But, this is not the right way to make objects. This is just for explanation for easier understanding.\n",
    "\n",
    "Makes little sense? That's okay, here is an example, that creates the definition of a `Shape`:\n",
    "\n"
   ]
  },
  {
   "cell_type": "markdown",
   "metadata": {},
   "source": [
    "## Lets do some hands on practice"
   ]
  },
  {
   "cell_type": "code",
   "execution_count": 17,
   "metadata": {},
   "outputs": [],
   "source": [
    "class Person:\n",
    "    def __init__(self,name,age):\n",
    "        self.name = name\n",
    "        self.age = age"
   ]
  },
  {
   "cell_type": "code",
   "execution_count": 18,
   "metadata": {},
   "outputs": [],
   "source": [
    "avisek = Person('avisek',35)\n",
    "john = Person('john',18)\n",
    "# right now this class does nothing, just is template for person objects with name and age as properties."
   ]
  },
  {
   "cell_type": "markdown",
   "metadata": {},
   "source": [
    "### Methods"
   ]
  },
  {
   "cell_type": "markdown",
   "metadata": {},
   "source": [
    "A method is the equivalent of a function in object-oriented programming."
   ]
  },
  {
   "cell_type": "code",
   "execution_count": 19,
   "metadata": {},
   "outputs": [],
   "source": [
    "### Let's add some more methods here\n",
    "class Person:\n",
    "    def __init__(self,name,age):\n",
    "        self.name = name\n",
    "        self.age = age\n",
    "    def displayName(self):\n",
    "        print(f'My name is {self.name}')"
   ]
  },
  {
   "cell_type": "code",
   "execution_count": 20,
   "metadata": {},
   "outputs": [
    {
     "name": "stdout",
     "output_type": "stream",
     "text": [
      "My name is avisek\n"
     ]
    }
   ],
   "source": [
    "avisek = Person('avisek',22)\n",
    "avisek.displayName()"
   ]
  },
  {
   "cell_type": "code",
   "execution_count": 21,
   "metadata": {},
   "outputs": [],
   "source": [
    "# Example of another class\n",
    "class Shape:\n",
    "    def __init__(self,x,y):\n",
    "        self.x = x\n",
    "        self.y = y\n",
    "    def area(self):\n",
    "        return self.x * self.y\n",
    "    def perimeter(self):\n",
    "        return 2 * self.x + 2 * self.y\n",
    "    def scaleSize(self,scale):\n",
    "        self.x = self.x * scale\n",
    "        self.y = self.y * scale"
   ]
  },
  {
   "cell_type": "markdown",
   "metadata": {},
   "source": [
    "What you have created is a description of a shape (that is, the variables) and what operations you can do with the shape (that is, the fuctions). This is very important - you have not made an actual shape, simply the description of what a shape is. The shape has a width (`x`), a height (`y`), and an area and perimeter (`area(self)` and `perimeter(self)`). No code is run when you define a class - you are simply making functions and variables.\n",
    "\n",
    "The function called `__init__` is run when we create an instance of `Shape` - that is, when we create an actual shape, as opposed to the 'blueprint' we have here, `__init__` is run. \n",
    "\n",
    "`self` is how we refer to things in the class from within itself. `self` is the first parameter in any function defined inside a class. Any function or variable created on the first level of indentation (that is, lines of code that start one TAB to the right of where we put class `Shape` is automatically put into self. \n"
   ]
  },
  {
   "cell_type": "code",
   "execution_count": 22,
   "metadata": {},
   "outputs": [
    {
     "name": "stdout",
     "output_type": "stream",
     "text": [
      "4500\n",
      "290\n",
      "1125.0\n"
     ]
    }
   ],
   "source": [
    "rectangle = Shape(100,45)\n",
    "\n",
    "#finding the area of your rectangle:\n",
    "print(rectangle.area())\n",
    "\n",
    "#finding the perimeter of your rectangle:\n",
    "print(rectangle.perimeter())\n",
    "\n",
    "#making the rectangle 50% smaller\n",
    "rectangle.scaleSize(0.5)\n",
    "\n",
    "#re-printing the new area of the rectangle\n",
    "print(rectangle.area())"
   ]
  },
  {
   "cell_type": "markdown",
   "metadata": {},
   "source": [
    "As you see, where `self` would be used from within the class instance, its assigned name is used when outside the class. We do this to view and change the variables inside the class, and to access the functions that are there.\n",
    "\n",
    "We aren't limited to a single instance of a class - we could have as many instances as we like. I could do this:\n",
    "```Python\n",
    "longrectangle = Shape(120,10)\n",
    "fatrectangle = Shape(130,120)\n",
    "```\n",
    "\n",
    "and both `longrectangle` and `fatrectangle` have their own functions and variables contained inside them - they are totally independent of each other. There is no limit to the number of instances I could create.\n",
    "\n",
    "Experiment with a few different instances in the field above."
   ]
  },
  {
   "cell_type": "markdown",
   "metadata": {},
   "source": [
    "## Exercise: Implement a Complex number class"
   ]
  },
  {
   "cell_type": "markdown",
   "metadata": {},
   "source": [
    "Requirements:\n",
    "    a. Each objects should have real and imaginary part\n",
    "    b. Display the complex number in x+iy for using a function like display_complex_number\n",
    "    "
   ]
  },
  {
   "cell_type": "code",
   "execution_count": 23,
   "metadata": {},
   "outputs": [],
   "source": [
    "class Complex:\n",
    "    def __init__(self,x,y=0.0):\n",
    "        self.real = x\n",
    "        self.img = y\n",
    "    def display_complex_number(self):\n",
    "        return f'{self.real}+{self.img}i'\n",
    "    "
   ]
  },
  {
   "cell_type": "code",
   "execution_count": 24,
   "metadata": {},
   "outputs": [
    {
     "data": {
      "text/plain": [
       "'2+3i'"
      ]
     },
     "execution_count": 24,
     "metadata": {},
     "output_type": "execute_result"
    }
   ],
   "source": [
    "num1 = Complex(2,3)\n",
    "num1.display_complex_number()"
   ]
  },
  {
   "cell_type": "markdown",
   "metadata": {},
   "source": [
    "### Light intro to Magic methods:"
   ]
  },
  {
   "cell_type": "markdown",
   "metadata": {},
   "source": [
    "So what's magic about the \\__init\\__ method? The answer is, you don't have to invoke it directly. The invocation is realized behind the scenes. When you create an instance x of a class A with the statement \"x = A()\", Python will do the necessary calls to \\__new\\__ and \\__init\\__."
   ]
  },
  {
   "cell_type": "markdown",
   "metadata": {},
   "source": [
    "We will implement addition of complex numbers now ( operator overloading ), and display the complex number when printing"
   ]
  },
  {
   "cell_type": "code",
   "execution_count": 25,
   "metadata": {},
   "outputs": [],
   "source": [
    "class Complex:\n",
    "    def __init__(self, real, imag=0.0):\n",
    "        self.real = real\n",
    "        self.imag = imag\n",
    "\n",
    "    def __add__(self, other):\n",
    "        return Complex(self.real + other.real,\n",
    "                       self.imag + other.imag)\n",
    "\n",
    "    def __sub__(self, other):\n",
    "        return Complex(self.real - other.real,\n",
    "                       self.imag - other.imag)\n",
    "    def __str__(self):\n",
    "        return f'{self.real}+{self.imag}i'\n",
    "    "
   ]
  },
  {
   "cell_type": "code",
   "execution_count": 26,
   "metadata": {},
   "outputs": [
    {
     "name": "stdout",
     "output_type": "stream",
     "text": [
      "5+2i\n",
      "-1+4i\n"
     ]
    }
   ],
   "source": [
    "x1 = Complex(2,3)\n",
    "x2 = Complex(3,-1)\n",
    "x3 = x1+x2\n",
    "x4 = x1-x2\n",
    "print(x3)\n",
    "print(x4)"
   ]
  },
  {
   "cell_type": "markdown",
   "metadata": {},
   "source": [
    "### Inheritance in python"
   ]
  },
  {
   "cell_type": "markdown",
   "metadata": {},
   "source": [
    "Inheritance allows us to create a new class from an existing class thereby reducing the amount of redundant code.\n",
    "\n",
    "\n",
    "The new class that is created is known as subclass (child or derived class) and the existing class from which the child class is derived is known as superclass (parent or base class).\n",
    "\n",
    "The child classes inherit all properties and methods of parent class.\n"
   ]
  },
  {
   "cell_type": "markdown",
   "metadata": {},
   "source": [
    "<img src=\"inheritance.jpeg\">"
   ]
  },
  {
   "cell_type": "markdown",
   "metadata": {},
   "source": [
    "<img src=\"inher.png\">"
   ]
  },
  {
   "cell_type": "markdown",
   "metadata": {},
   "source": [
    "##  Inheritance Usage\n",
    "\n",
    "Remember the `Shape` class?"
   ]
  },
  {
   "cell_type": "code",
   "execution_count": 27,
   "metadata": {},
   "outputs": [],
   "source": [
    "class Shape:\n",
    "    def __init__(self,x,y):\n",
    "        self.x = x\n",
    "        self.y = y\n",
    "    def area(self):\n",
    "        return self.x * self.y\n",
    "    def perimeter(self):\n",
    "        return 2 * self.x + 2 * self.y\n",
    "    def scaleSize(self,scale):\n",
    "        self.x = self.x * scale\n",
    "        self.y = self.y * scale"
   ]
  },
  {
   "cell_type": "markdown",
   "metadata": {},
   "source": [
    "If we wanted to define a new class, let's say a square, based on our previous Shape class, we would do this:"
   ]
  },
  {
   "cell_type": "code",
   "execution_count": 28,
   "metadata": {},
   "outputs": [],
   "source": [
    "class Square(Shape):\n",
    "    def __init__(self,x):\n",
    "        self.x = x\n",
    "        self.y = x"
   ]
  },
  {
   "cell_type": "markdown",
   "metadata": {},
   "source": [
    "It is just like normally defining a class, but this time we put in brackets after the name, the parent class that we inherited from. "
   ]
  },
  {
   "cell_type": "markdown",
   "metadata": {},
   "source": [
    "Let's take from what we have learnt, and create another new class, this time inherited from `Square`. It will be two squares, one immediately left of the other:"
   ]
  },
  {
   "cell_type": "code",
   "execution_count": 30,
   "metadata": {},
   "outputs": [],
   "source": [
    "# The shape looks like this:\n",
    "# _________\n",
    "#|    |    |\n",
    "#|    |    |\n",
    "#|____|____|\n",
    "\n",
    "class DoubleSquare(Square):\n",
    "    def __init__(self,y):\n",
    "        self.x = 2 * y\n",
    "        self.y = y\n",
    "    def perimeter(self):\n",
    "        return 2 * self.x + 3 * self.y"
   ]
  },
  {
   "cell_type": "markdown",
   "metadata": {},
   "source": [
    "This time, we also had to redefine the `perimeter` function, as there is a line going down the middle of the shape. Try creating an instance of this class in the field below and play around with different values. "
   ]
  },
  {
   "cell_type": "code",
   "execution_count": null,
   "metadata": {},
   "outputs": [],
   "source": []
  },
  {
   "cell_type": "code",
   "execution_count": null,
   "metadata": {},
   "outputs": [],
   "source": []
  }
 ],
 "metadata": {
  "kernelspec": {
   "display_name": "Python 3 (ipykernel)",
   "language": "python",
   "name": "python3"
  },
  "language_info": {
   "codemirror_mode": {
    "name": "ipython",
    "version": 3
   },
   "file_extension": ".py",
   "mimetype": "text/x-python",
   "name": "python",
   "nbconvert_exporter": "python",
   "pygments_lexer": "ipython3",
   "version": "3.10.6"
  },
  "varInspector": {
   "cols": {
    "lenName": 16,
    "lenType": 16,
    "lenVar": 40
   },
   "kernels_config": {
    "python": {
     "delete_cmd_postfix": "",
     "delete_cmd_prefix": "del ",
     "library": "var_list.py",
     "varRefreshCmd": "print(var_dic_list())"
    },
    "r": {
     "delete_cmd_postfix": ") ",
     "delete_cmd_prefix": "rm(",
     "library": "var_list.r",
     "varRefreshCmd": "cat(var_dic_list()) "
    }
   },
   "types_to_exclude": [
    "module",
    "function",
    "builtin_function_or_method",
    "instance",
    "_Feature"
   ],
   "window_display": false
  }
 },
 "nbformat": 4,
 "nbformat_minor": 2
}
